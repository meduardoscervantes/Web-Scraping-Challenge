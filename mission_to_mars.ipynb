{
 "cells": [
  {
   "cell_type": "code",
   "execution_count": 28,
   "id": "eaa28325-af7d-4be2-aa18-78920f3f98e5",
   "metadata": {},
   "outputs": [],
   "source": [
    "##################\n",
    "# Import Modules #\n",
    "##################\n",
    "from splinter import Browser\n",
    "from bs4 import BeautifulSoup\n",
    "import requests\n",
    "import pandas as pd"
   ]
  },
  {
   "cell_type": "code",
   "execution_count": 16,
   "id": "86898030-10bf-40f0-b4c9-b1ecb1f9b267",
   "metadata": {},
   "outputs": [
    {
     "name": "stdout",
     "output_type": "stream",
     "text": [
      "**************************************************\n",
      "Title: NASA's MAVEN Observes Martian Night Sky Pulsing in Ultraviolet Light\n",
      "teaser paragraph: Vast areas of the Martian night sky pulse in ultraviolet light, according to images from NASA’s MAVEN spacecraft. The results are being used to illuminate complex circulation patterns in the Martian atmosphere.\n",
      "**************************************************\n",
      "Title: A New Video Captures the Science of NASA's Perseverance Mars Rover\n",
      "teaser paragraph: With a targeted launch date of July 30, the next robotic scientist NASA is sending to the to the Red Planet has big ambitions.\n",
      "**************************************************\n",
      "Title: Naming a NASA Mars Rover Can Change Your Life\n",
      "teaser paragraph: Want to name the robotic scientist NASA is sending to Mars in 2020? The student who named Curiosity — the rover currently exploring Mars — will tell you this is an opportunity worth taking.\n",
      "**************************************************\n",
      "Title: Common Questions about InSight's 'Mole'\n",
      "teaser paragraph: The following Q&As with members of the team answer some of the most common questions about the burrowing device, part of a science instrument called the Heat Flow and Physical Properties Package (HP3).\n",
      "**************************************************\n",
      "Title: NASA to Broadcast Mars 2020 Perseverance Launch, Prelaunch Activities\n",
      "teaser paragraph: Starting July 27, news activities will cover everything from mission engineering and science to returning samples from Mars to, of course, the launch itself.\n",
      "**************************************************\n",
      "Title: NASA's MAVEN Maps Winds in the Martian Upper Atmosphere that Mirror the Terrain Below and Gives Clues to Martian Climate\n",
      "teaser paragraph: Researchers have created the first map of wind circulation in the upper atmosphere of a planet besides Earth, using data from NASA’s MAVEN spacecraft that were collected during the last two years.\n",
      "**************************************************\n",
      "Title: While Stargazing on Mars, NASA's Curiosity Rover Spots Earth and Venus\n",
      "teaser paragraph: This new portrait of the Red Planet's neighbors was taken during a time when there's more dust in the air on Mars.\n",
      "**************************************************\n",
      "Title: Celebrate Mars Reconnaissance Orbiter's Views From Above\n",
      "teaser paragraph: Marking its 15th anniversary since launch, one of the oldest spacecraft at the Red Planet has provided glimpses of dust devils, avalanches, and more.\n",
      "**************************************************\n",
      "Title: Newfound Martian Aurora Actually the Most Common; Sheds Light on Mars' Changing Climate\n",
      "teaser paragraph: A type of Martian aurora first identified by NASA’s MAVEN spacecraft in 2016 is actually the most common form of aurora occurring on the Red Planet, according to new results from the mission.\n",
      "**************************************************\n",
      "Title: NASA Engineers Checking InSight's Weather Sensors\n",
      "teaser paragraph: An electronics issue is suspected to be preventing the sensors from sharing their data about Mars weather with the spacecraft.\n",
      "**************************************************\n",
      "Title: NASA Moves Forward With Campaign to Return Mars Samples to Earth\n",
      "teaser paragraph: During this next phase, the program will mature critical technologies and make critical design decisions as well as assess industry partnerships.\n",
      "**************************************************\n",
      "Title: NASA Establishes Board to Initially Review Mars Sample Return Plans\n",
      "teaser paragraph: The board will assist with analysis of current plans and goals for one of the most difficult missions humanity has ever undertaken.\n",
      "**************************************************\n",
      "Title: 3 Things We've Learned From NASA's Mars InSight \n",
      "teaser paragraph: Scientists are finding new mysteries since the geophysics mission landed two years ago.\n",
      "**************************************************\n",
      "Title: NASA's MAVEN Explores Mars to Understand Radio Interference at Earth\n",
      "teaser paragraph: NASA’s MAVEN spacecraft has discovered “layers” and “rifts” in the electrically charged part of the upper atmosphere of Mars.\n",
      "**************************************************\n",
      "Title: Curiosity Mars Rover's Summer Road Trip Has Begun\n",
      "teaser paragraph: After more than a year in the \"clay-bearing unit,\" Curiosity is making a mile-long journey around some deep sand so that it can explore higher up Mount Sharp.\n",
      "[WinError 3] The system cannot find the path specified: 'C:\\\\Users\\\\12108\\\\AppData\\\\Local\\\\Temp\\\\tmpkrbrfa4v'\n"
     ]
    }
   ],
   "source": [
    "##################\n",
    "# NASA Mars News #\n",
    "##################\n",
    "with Browser() as browser:\n",
    "    url = \"https://redplanetscience.com/\"\n",
    "    browser.visit(url)\n",
    "    html = browser.html\n",
    "    soup = BeautifulSoup(html, 'html.parser')\n",
    "    titles = soup.find_all('div', class_=\"content_title\")\n",
    "    teaser_para = soup.find_all('div', class_=\"article_teaser_body\")\n",
    "    for x in range(len(titles)):\n",
    "        print(\"*\"*50)\n",
    "        print(f'Title: {titles[x].text}')\n",
    "        print(f'teaser paragraph: {teaser_para[x].text}')\n",
    "    browser.quit()\n"
   ]
  },
  {
   "cell_type": "code",
   "execution_count": 75,
   "id": "64494232-7f0e-4a32-b843-1a22f1bf24a9",
   "metadata": {},
   "outputs": [
    {
     "name": "stdout",
     "output_type": "stream",
     "text": [
      "https://spaceimages-mars.com/image/featured/mars1.jpg\n",
      "[WinError 3] The system cannot find the path specified: 'C:\\\\Users\\\\12108\\\\AppData\\\\Local\\\\Temp\\\\tmptztnwtvo'\n"
     ]
    }
   ],
   "source": [
    "##########################################\n",
    "# JPL Mars Space Images - Featured Image #\n",
    "##########################################\n",
    "with Browser() as browser:\n",
    "    url = \"https://spaceimages-mars.com/\"\n",
    "    browser.visit(url)\n",
    "    html = browser.html\n",
    "    soup = BeautifulSoup(html, 'html.parser')\n",
    "    feat_images = soup.find_all('img', class_=\"headerimage\")\n",
    "    feat_jpg_url = url + feat_images[0].attrs['src']\n",
    "    print(feat_jpg_url)\n",
    "    browser.quit()"
   ]
  },
  {
   "cell_type": "code",
   "execution_count": 48,
   "id": "4dc41645-73cf-477f-9ea1-c6f528c10d4d",
   "metadata": {},
   "outputs": [
    {
     "name": "stdout",
     "output_type": "stream",
     "text": [
      "             Mars Info                    Mars Values\n",
      "0  Equatorial Diameter                       6,792 km\n",
      "1       Polar Diameter                       6,752 km\n",
      "2                 Mass  6.39 × 10^23 kg (0.11 Earths)\n",
      "3                Moons        2 ( Phobos  &  Deimos )\n",
      "4       Orbit Distance       227,943,824 km (1.38 AU)\n",
      "5         Orbit Period           687 days (1.9 years)\n",
      "6  Surface Temperature                   -87 to -5 °C\n",
      "7         First Record              2nd millennium BC\n",
      "8          Recorded By           Egyptian astronomers\n",
      "<table border=\"1\" class=\"dataframe\">\n",
      "  <thead>\n",
      "    <tr style=\"text-align: right;\">\n",
      "      <th>Mars Info</th>\n",
      "      <th>Mars Values</th>\n",
      "    </tr>\n",
      "  </thead>\n",
      "  <tbody>\n",
      "    <tr>\n",
      "      <td>Equatorial Diameter</td>\n",
      "      <td>6,792 km</td>\n",
      "    </tr>\n",
      "    <tr>\n",
      "      <td>Polar Diameter</td>\n",
      "      <td>6,752 km</td>\n",
      "    </tr>\n",
      "    <tr>\n",
      "      <td>Mass</td>\n",
      "      <td>6.39 × 10^23 kg (0.11 Earths)</td>\n",
      "    </tr>\n",
      "    <tr>\n",
      "      <td>Moons</td>\n",
      "      <td>2 ( Phobos  &amp;  Deimos )</td>\n",
      "    </tr>\n",
      "    <tr>\n",
      "      <td>Orbit Distance</td>\n",
      "      <td>227,943,824 km (1.38 AU)</td>\n",
      "    </tr>\n",
      "    <tr>\n",
      "      <td>Orbit Period</td>\n",
      "      <td>687 days (1.9 years)</td>\n",
      "    </tr>\n",
      "    <tr>\n",
      "      <td>Surface Temperature</td>\n",
      "      <td>-87 to -5 °C</td>\n",
      "    </tr>\n",
      "    <tr>\n",
      "      <td>First Record</td>\n",
      "      <td>2nd millennium BC</td>\n",
      "    </tr>\n",
      "    <tr>\n",
      "      <td>Recorded By</td>\n",
      "      <td>Egyptian astronomers</td>\n",
      "    </tr>\n",
      "  </tbody>\n",
      "</table>\n",
      "[WinError 3] The system cannot find the path specified: 'C:\\\\Users\\\\12108\\\\AppData\\\\Local\\\\Temp\\\\tmpckdc58w9'\n"
     ]
    }
   ],
   "source": [
    "##############\n",
    "# Mars Facts #\n",
    "##############\n",
    "with Browser() as browser:\n",
    "    url = \"https://galaxyfacts-mars.com/\"\n",
    "    browser.visit(url)\n",
    "    html = browser.html\n",
    "    soup = BeautifulSoup(html, 'html.parser')\n",
    "    key = [str(x.text).replace(\":\",\"\") for x in soup.find('div', class_=\"sidebar\").find_all('th')]\n",
    "    value = [str(x.text).replace(\"\\t\",\"\") for x in soup.find('div', class_=\"sidebar\").find_all('td')]\n",
    "    df = pd.DataFrame({\n",
    "        \"Mars Info\": key,\n",
    "        \"Mars Values\": value\n",
    "    })\n",
    "    print(df)\n",
    "    table_html = df.to_html(index=False)\n",
    "    print(table_html)\n",
    "    browser.quit()"
   ]
  },
  {
   "cell_type": "code",
   "execution_count": 76,
   "id": "ee18f8db-7560-4d32-b9e1-e17fc026ecfa",
   "metadata": {},
   "outputs": [
    {
     "name": "stdout",
     "output_type": "stream",
     "text": [
      "[{'title': 'Cerberus Hemisphere', 'img_url': 'https://marshemispheres.com/images/full.jpg'}, {'title': 'Schiaparelli Hemisphere', 'img_url': 'https://marshemispheres.com/images/schiaparelli_enhanced-full.jpg'}, {'title': 'Syrtis Major Hemisphere', 'img_url': 'https://marshemispheres.com/images/syrtis_major_enhanced-full.jpg'}, {'title': 'Valles Marineris Hemisphere', 'img_url': 'https://marshemispheres.com/images/valles_marineris_enhanced-full.jpg'}]\n",
      "[WinError 3] The system cannot find the path specified: 'C:\\\\Users\\\\12108\\\\AppData\\\\Local\\\\Temp\\\\tmps_vhww04'\n"
     ]
    }
   ],
   "source": [
    "####################\n",
    "# Mars Hemispheres #\n",
    "####################\n",
    "with Browser() as browser:\n",
    "    url = \"https://marshemispheres.com/\"\n",
    "    browser.visit(url)\n",
    "    html = browser.html\n",
    "    soup = BeautifulSoup(html, 'html.parser')\n",
    "    links = soup.find_all('div', class_=\"item\")\n",
    "    \n",
    "    img_hrefs = [\n",
    "        url + x.find_all('a', class_=\"itemLink\")[0].attrs['href']\n",
    "        for x in links\n",
    "    ]  # Create all of the links to find the images    \n",
    "    \n",
    "    src_url = []\n",
    "    src_title = []\n",
    "    for x in img_hrefs:\n",
    "        browser.visit(x)\n",
    "        html = browser.html\n",
    "        soup = BeautifulSoup(html, 'html.parser')\n",
    "        src_url.append(url + soup.find_all('li')[0].find_all('a')[0].attrs['href'])\n",
    "        src_title.append(str(soup.find_all('h2', class_=\"title\")[0].text).replace(\" Enhanced\", \"\"))\n",
    "    \n",
    "    hemisphere_image_urls = [\n",
    "        dict({\"title\": src_title[x], \"img_url\": src_url[x]})\n",
    "        for x in range(len(src_title))\n",
    "    ]\n",
    "    print(hemisphere_image_urls)\n",
    "    browser.quit()"
   ]
  },
  {
   "cell_type": "code",
   "execution_count": null,
   "id": "efef3588-d36a-4c3d-9cdf-aa4ef2aa99f0",
   "metadata": {},
   "outputs": [],
   "source": []
  }
 ],
 "metadata": {
  "kernelspec": {
   "display_name": "Python 3 (ipykernel)",
   "language": "python",
   "name": "python3"
  },
  "language_info": {
   "codemirror_mode": {
    "name": "ipython",
    "version": 3
   },
   "file_extension": ".py",
   "mimetype": "text/x-python",
   "name": "python",
   "nbconvert_exporter": "python",
   "pygments_lexer": "ipython3",
   "version": "3.8.8"
  }
 },
 "nbformat": 4,
 "nbformat_minor": 5
}
